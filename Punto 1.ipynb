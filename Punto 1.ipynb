{
 "cells": [
  {
   "cell_type": "code",
   "execution_count": 145,
   "id": "88e7678a-e84a-420f-8c66-97a011f6414b",
   "metadata": {},
   "outputs": [
    {
     "name": "stdout",
     "output_type": "stream",
     "text": [
      "Requirement already satisfied: pandas in c:\\users\\mbr19\\anaconda3\\lib\\site-packages (2.2.2)\n",
      "Requirement already satisfied: openpyxl in c:\\users\\mbr19\\anaconda3\\lib\\site-packages (3.1.2)\n",
      "Requirement already satisfied: numpy>=1.26.0 in c:\\users\\mbr19\\anaconda3\\lib\\site-packages (from pandas) (1.26.4)\n",
      "Requirement already satisfied: python-dateutil>=2.8.2 in c:\\users\\mbr19\\anaconda3\\lib\\site-packages (from pandas) (2.9.0.post0)\n",
      "Requirement already satisfied: pytz>=2020.1 in c:\\users\\mbr19\\anaconda3\\lib\\site-packages (from pandas) (2024.1)\n",
      "Requirement already satisfied: tzdata>=2022.7 in c:\\users\\mbr19\\anaconda3\\lib\\site-packages (from pandas) (2023.3)\n",
      "Requirement already satisfied: et-xmlfile in c:\\users\\mbr19\\anaconda3\\lib\\site-packages (from openpyxl) (1.1.0)\n",
      "Requirement already satisfied: six>=1.5 in c:\\users\\mbr19\\anaconda3\\lib\\site-packages (from python-dateutil>=2.8.2->pandas) (1.16.0)\n",
      "Note: you may need to restart the kernel to use updated packages.\n"
     ]
    }
   ],
   "source": [
    "pip install pandas openpyxl"
   ]
  },
  {
   "cell_type": "code",
   "execution_count": 146,
   "id": "2b7a1e8e-a716-4f8e-9b42-4c3cf5bf8278",
   "metadata": {},
   "outputs": [],
   "source": [
    "import numpy as np\n",
    "import pandas as pd"
   ]
  },
  {
   "cell_type": "code",
   "execution_count": 147,
   "id": "9e946e67-54f8-4504-89bc-c8173cf72c5a",
   "metadata": {},
   "outputs": [
    {
     "name": "stdout",
     "output_type": "stream",
     "text": [
      "   0  1  2  3  4  5\n",
      "0  0  0  1  0  0  0\n",
      "1  0  1  1  0  0  0\n",
      "2  0  0  1  0  0  0\n",
      "3  0  0  1  0  0  0\n",
      "4  0  1  1  1  0  0\n"
     ]
    }
   ],
   "source": [
    "path = \"C:/Users/mbr19/OneDrive/Escritorio/Ultimo semestre/Python/Segundo Corte/PROYECTO FINAL IA CORTE 2-20241012/PROYECTO FINAL IA CORTE 2/pixeles.xlsx\"\n",
    "matrix = pd.read_excel(path, header =None)\n",
    "print(matrix.head())"
   ]
  },
  {
   "cell_type": "code",
   "execution_count": 148,
   "id": "fed76c75-af80-4e05-87dd-455753048b60",
   "metadata": {},
   "outputs": [],
   "source": [
    "matrix = matrix.to_numpy()"
   ]
  },
  {
   "cell_type": "code",
   "execution_count": 149,
   "id": "f5060f60-5fe6-4eb8-be59-143d8fe6b63b",
   "metadata": {},
   "outputs": [
    {
     "data": {
      "text/plain": [
       "(6, 6)"
      ]
     },
     "execution_count": 149,
     "metadata": {},
     "output_type": "execute_result"
    }
   ],
   "source": [
    "matrix.shape"
   ]
  },
  {
   "cell_type": "code",
   "execution_count": 150,
   "id": "56a0247c-3aae-4035-818c-fa5ad8572b00",
   "metadata": {},
   "outputs": [],
   "source": [
    "##Convolusión"
   ]
  },
  {
   "cell_type": "code",
   "execution_count": 151,
   "id": "ce99c285-00d7-4f8b-980a-f5a704bbb07d",
   "metadata": {},
   "outputs": [],
   "source": [
    "# Definir los kernels para detección de bordes\n",
    "kernel_horizontal = np.array([[1, 1, 1], [0, 0, 0], [-1,-1,-1]])\n",
    "kernel_vertical = np.array([[1, 0,-1], [1, 0,-1], [1, 0,-1]])\n"
   ]
  },
  {
   "cell_type": "code",
   "execution_count": 152,
   "id": "b6315453-70f2-4668-a9b4-750ac7a3d601",
   "metadata": {},
   "outputs": [],
   "source": [
    "def apply_convolution(matrix, kernel_type=\"horizontal\"):\n",
    "    # Seleccionar el kernel\n",
    "    if kernel_type == \"horizontal\":\n",
    "        kernel = kernel_horizontal\n",
    "    elif kernel_type == \"vertical\":\n",
    "        kernel = kernel_vertical\n",
    "    else:\n",
    "        raise ValueError(\"El tipo de kernel debe ser 'horizontal' o 'vertical'.\")\n",
    "\n",
    "    # Inicializar la matriz de salida\n",
    "    output = np.zeros((matrix.shape[0] - 2, matrix.shape[1] - 2))\n",
    "\n",
    "    # Realizar la convolución\n",
    "    for i in range(output.shape[0]):\n",
    "        for j in range(output.shape[1]):\n",
    "            # Extraer la submatriz de 3x3\n",
    "            sub_matrix = matrix[i:i+3, j:j+3]\n",
    "            # Calcular la suma de la multiplicación del kernel con la submatriz\n",
    "            output[i, j] = np.sum(sub_matrix * kernel)\n",
    "    \n",
    "    return output"
   ]
  },
  {
   "cell_type": "code",
   "execution_count": 153,
   "id": "52682e0e-0b74-418d-b829-1548473dc947",
   "metadata": {},
   "outputs": [
    {
     "name": "stdout",
     "output_type": "stream",
     "text": [
      "Matriz de salida (bordes horizontales):\n",
      " [[ 0.  0.  0.  0.]\n",
      " [ 1.  1.  0.  0.]\n",
      " [-1. -2. -1. -1.]\n",
      " [ 1.  1.  1.  0.]]\n",
      "Matriz de salida (bordes verticales):\n",
      " [[-3.  1.  3.  0.]\n",
      " [-3.  1.  3.  0.]\n",
      " [-3.  0.  3.  1.]\n",
      " [-2.  0.  2.  1.]]\n"
     ]
    }
   ],
   "source": [
    "output_horizontal = apply_convolution(matrix, kernel_type=\"horizontal\")\n",
    "print(\"Matriz de salida (bordes horizontales):\\n\", output_horizontal)\n",
    "\n",
    "# Aplicar la convolución con el kernel vertical\n",
    "output_vertical = apply_convolution(matrix, kernel_type=\"vertical\")\n",
    "print(\"Matriz de salida (bordes verticales):\\n\", output_vertical)"
   ]
  },
  {
   "cell_type": "code",
   "execution_count": null,
   "id": "4e86e04d-66d0-4643-bd79-b41db2c1bb28",
   "metadata": {},
   "outputs": [],
   "source": [
    "### Padding"
   ]
  },
  {
   "cell_type": "code",
   "execution_count": 163,
   "id": "64089ef3-08ec-4f6c-8d1a-78dd2a9fd237",
   "metadata": {},
   "outputs": [],
   "source": [
    "def add_padding(matrix, padding_rows, padding_cols):\n",
    "    # Asegurarse de que la matriz es un array de numpy\n",
    "    matrix = np.array(matrix)\n",
    "    \n",
    "    # Crear matrices de ceros con el tamaño adecuado\n",
    "    row_padding = np.zeros((padding_rows, matrix.shape[1]))  # Padding de filas\n",
    "    col_padding = np.zeros((matrix.shape[0] + padding_rows * 2, padding_cols))  # Padding de columnas\n",
    "    \n",
    "    # Concatenar las filas de ceros en la parte superior y en la parte inferior\n",
    "    padded_matrix = np.vstack((row_padding, matrix, row_padding))\n",
    "    \n",
    "    # Concatenar las columnas de ceros a la izquierda y a la derecha\n",
    "    padded_matrix = np.hstack((col_padding, padded_matrix, col_padding))\n",
    "    \n",
    "    return padded_matrix"
   ]
  },
  {
   "cell_type": "code",
   "execution_count": 165,
   "id": "dec3007f-e0ab-4b8e-81fa-faf667aed969",
   "metadata": {},
   "outputs": [
    {
     "name": "stdout",
     "output_type": "stream",
     "text": [
      "Matriz original:\n",
      " [[0 0 1 0 0 0]\n",
      " [0 1 1 0 0 0]\n",
      " [0 0 1 0 0 0]\n",
      " [0 0 1 0 0 0]\n",
      " [0 1 1 1 0 0]\n",
      " [0 0 0 0 0 0]]\n",
      "\n",
      "Matriz con padding:\n",
      " [[0. 0. 0. 0. 0. 0. 0. 0.]\n",
      " [0. 0. 0. 1. 0. 0. 0. 0.]\n",
      " [0. 0. 1. 1. 0. 0. 0. 0.]\n",
      " [0. 0. 0. 1. 0. 0. 0. 0.]\n",
      " [0. 0. 0. 1. 0. 0. 0. 0.]\n",
      " [0. 0. 1. 1. 1. 0. 0. 0.]\n",
      " [0. 0. 0. 0. 0. 0. 0. 0.]\n",
      " [0. 0. 0. 0. 0. 0. 0. 0.]]\n"
     ]
    }
   ],
   "source": [
    "padding_rows = 1  # Número de filas de ceros a agregar\n",
    "padding_cols = 1  # Número de columnas de ceros a agregar\n",
    "padded_matrix = add_padding(matrix, padding_rows, padding_cols)\n",
    "\n",
    "print(\"Matriz original:\\n\", matrix)\n",
    "print(\"\\nMatriz con padding:\\n\", padded_matrix)"
   ]
  },
  {
   "cell_type": "code",
   "execution_count": 167,
   "id": "58efd95f-a4be-4caf-8eea-70876aeb337b",
   "metadata": {},
   "outputs": [],
   "source": [
    "###Stride"
   ]
  },
  {
   "cell_type": "code",
   "execution_count": 169,
   "id": "e029b6d1-7137-4247-a105-adc5c8f3853c",
   "metadata": {},
   "outputs": [],
   "source": [
    "def apply_stride(matrix, kernel_type, stride):\n",
    "    # Asegurarse de que la matriz es un array de numpy\n",
    "    matrix = np.array(matrix)\n",
    "\n",
    "    # Definir el kernel para la detección de bordes\n",
    "    if kernel_type == \"horizontal\":\n",
    "        kernel = np.array([[1, 1, 1], \n",
    "                           [0, 0, 0], \n",
    "                           [-1, -1, -1]])\n",
    "    elif kernel_type == \"vertical\":\n",
    "        kernel = np.array([[1, 0, -1], \n",
    "                           [1, 0, -1], \n",
    "                           [1, 0, -1]])\n",
    "    else:\n",
    "        raise ValueError(\"Tipo de kernel no válido. Usa 'horizontal' o 'vertical'.\")\n",
    "\n",
    "    # Dimensiones de la matriz original y de salida\n",
    "    output_rows = (matrix.shape[0] - 2) // stride + 1\n",
    "    output_cols = (matrix.shape[1] - 2) // stride + 1\n",
    "    output = np.zeros((output_rows, output_cols))\n",
    "\n",
    "    # Aplicar el kernel con el stride\n",
    "    for i in range(0, matrix.shape[0] - 2, stride):\n",
    "        for j in range(0, matrix.shape[1] - 2, stride):\n",
    "            # Extraer la submatriz de 3x3\n",
    "            sub_matrix = matrix[i:i + 3, j:j + 3]\n",
    "            # Calcular la suma de la multiplicación del kernel con la submatriz\n",
    "            output[i // stride, j // stride] = np.sum(sub_matrix * kernel)\n",
    "\n",
    "    return output"
   ]
  },
  {
   "cell_type": "code",
   "execution_count": 171,
   "id": "7e915a0b-a67d-4291-8dc0-a6198dc559b1",
   "metadata": {},
   "outputs": [
    {
     "name": "stdout",
     "output_type": "stream",
     "text": [
      "Matriz de salida (bordes horizontales):\n",
      " [[ 0.  0.  0.]\n",
      " [-1. -1.  0.]\n",
      " [ 0.  0.  0.]]\n",
      "\n",
      "Matriz de salida (bordes verticales):\n",
      " [[-3.  3.  0.]\n",
      " [-3.  3.  0.]\n",
      " [ 0.  0.  0.]]\n"
     ]
    }
   ],
   "source": [
    "stride = 2  # Magnitud de los saltos\n",
    "output_horizontal = apply_stride(matrix, kernel_type=\"horizontal\", stride=stride)\n",
    "output_vertical = apply_stride(matrix, kernel_type=\"vertical\", stride=stride)\n",
    "\n",
    "print(\"Matriz de salida (bordes horizontales):\\n\", output_horizontal)\n",
    "print(\"\\nMatriz de salida (bordes verticales):\\n\", output_vertical)"
   ]
  },
  {
   "cell_type": "code",
   "execution_count": 173,
   "id": "cfbb4dde-6d41-452d-91db-832453a2e3c9",
   "metadata": {},
   "outputs": [],
   "source": [
    "##Stacking"
   ]
  },
  {
   "cell_type": "code",
   "execution_count": 179,
   "id": "5908e848-3e16-4de5-9632-853fdb3923c6",
   "metadata": {},
   "outputs": [],
   "source": [
    "def generate_kernels(n):\n",
    "    # Genera n kernels aleatorios de 3x3\n",
    "    return [np.random.randint(-1, 2, (3, 3)) for _ in range(n)]\n",
    "\n",
    "def apply_convolution_with_kernel(matrix, kernel):\n",
    "    # Aplica convolución con el kernel dado\n",
    "    output = np.zeros((matrix.shape[0] - 2, matrix.shape[1] - 2))\n",
    "    for i in range(output.shape[0]):\n",
    "        for j in range(output.shape[1]):\n",
    "            sub_matrix = matrix[i:i+3, j:j+3]\n",
    "            output[i, j] = np.sum(sub_matrix * kernel)\n",
    "    return output\n",
    "\n",
    "def generate_feature_maps(matrix, n):\n",
    "    # Genera n kernels y aplica convolución en horizontal y vertical para cada uno\n",
    "    kernels = generate_kernels(n)\n",
    "    feature_maps = []\n",
    "\n",
    "    for kernel in kernels:\n",
    "        horizontal_map = apply_convolution_with_kernel(matrix, kernel)  # Cambiado a apply_convolution_with_kernel\n",
    "        vertical_map = apply_convolution_with_kernel(matrix, kernel.T)  # Transpuesta para detección vertical\n",
    "        feature_maps.append((horizontal_map, vertical_map))  # Agregamos como un par\n",
    "    \n",
    "    return feature_maps"
   ]
  },
  {
   "cell_type": "code",
   "execution_count": 181,
   "id": "4b70aba9-74b5-4756-9c4c-d59ed3303403",
   "metadata": {},
   "outputs": [
    {
     "name": "stdout",
     "output_type": "stream",
     "text": [
      "Mapa de características 1:\n",
      "(array([[-2.,  0.,  0.,  0.],\n",
      "       [-4., -1.,  0.,  0.],\n",
      "       [-4., -3., -1., -1.],\n",
      "       [-1.,  0.,  2.,  1.]]), array([[-2.,  0., -2.,  0.],\n",
      "       [-2.,  1., -2.,  0.],\n",
      "       [-4., -1., -3., -1.],\n",
      "       [-1.,  0.,  0., -1.]]))\n",
      "\n",
      "Mapa de características 2:\n",
      "(array([[ 0., -1., -1.,  0.],\n",
      "       [-2., -1., -1.,  0.],\n",
      "       [-2., -3., -2., -1.],\n",
      "       [ 1., -1.,  1.,  0.]]), array([[-2., -1.,  0.,  0.],\n",
      "       [-3.,  0.,  0.,  0.],\n",
      "       [-4.,  0., -1.,  1.],\n",
      "       [-1., -1.,  0., -1.]]))\n",
      "\n",
      "Mapa de características 3:\n",
      "(array([[1., 0., 1., 0.],\n",
      "       [0., 0., 1., 0.],\n",
      "       [2., 1., 2., 1.],\n",
      "       [1., 0., 0., 0.]]), array([[ 2.,  0., -1.,  0.],\n",
      "       [ 2.,  1., -1.,  0.],\n",
      "       [ 3.,  1.,  0.,  0.],\n",
      "       [ 2.,  0., -1., -1.]]))\n",
      "\n"
     ]
    }
   ],
   "source": [
    "n = 3  # Número de mapas a generar\n",
    "feature_maps = generate_feature_maps(matrix, n)\n",
    "\n",
    "# Mostrar los mapas generados\n",
    "for idx, feature_map in enumerate(feature_maps):\n",
    "    print(f\"Mapa de características {idx + 1}:\\n{feature_map}\\n\")"
   ]
  },
  {
   "cell_type": "code",
   "execution_count": null,
   "id": "13458bdf-c1e1-4c0b-bd8b-f9330a38af49",
   "metadata": {},
   "outputs": [],
   "source": [
    "### Maxpooling"
   ]
  },
  {
   "cell_type": "code",
   "execution_count": 135,
   "id": "ed8f0e3a-df10-4c0b-a130-a332c46ae4bf",
   "metadata": {},
   "outputs": [],
   "source": [
    "def max_pooling(matrix, stride=1):\n",
    "    # Dimensiones de la matriz original\n",
    "    rows, cols = matrix.shape\n",
    "    \n",
    "    # Calcular las dimensiones de la matriz de salida\n",
    "    output_rows = (rows - 2) // stride + 1\n",
    "    output_cols = (cols - 2) // stride + 1\n",
    "    \n",
    "    # Crear la matriz de salida\n",
    "    output = np.zeros((output_rows, output_cols))\n",
    "    \n",
    "    # Recorrer la matriz con el kernel de 2x2\n",
    "    for i in range(0, rows - 1, stride):\n",
    "        for j in range(0, cols - 1, stride):\n",
    "            # Extraer el bloque de 2x2\n",
    "            block = matrix[i:i+2, j:j+2]\n",
    "            # Calcular el valor máximo en el bloque\n",
    "            output[i // stride, j // stride] = np.max(block)\n",
    "    \n",
    "    return output"
   ]
  },
  {
   "cell_type": "code",
   "execution_count": 137,
   "id": "c214953e-09d9-4b01-84d3-58a27f031866",
   "metadata": {},
   "outputs": [
    {
     "name": "stdout",
     "output_type": "stream",
     "text": [
      "Matriz de salida después de Max Pooling:\n",
      " [[1. 1. 0.]\n",
      " [0. 1. 0.]\n",
      " [1. 1. 0.]]\n"
     ]
    }
   ],
   "source": [
    "# Aplicar max pooling con stride = 2\n",
    "output = max_pooling(matrix, stride=2)\n",
    "print(\"Matriz de salida después de Max Pooling:\\n\", output)"
   ]
  }
 ],
 "metadata": {
  "kernelspec": {
   "display_name": "Python 3 (ipykernel)",
   "language": "python",
   "name": "python3"
  },
  "language_info": {
   "codemirror_mode": {
    "name": "ipython",
    "version": 3
   },
   "file_extension": ".py",
   "mimetype": "text/x-python",
   "name": "python",
   "nbconvert_exporter": "python",
   "pygments_lexer": "ipython3",
   "version": "3.12.4"
  }
 },
 "nbformat": 4,
 "nbformat_minor": 5
}
